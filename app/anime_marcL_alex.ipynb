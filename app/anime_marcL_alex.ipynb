{
 "cells": [
  {
   "cell_type": "markdown",
   "id": "3ab4304d",
   "metadata": {},
   "source": [
    "# Recomanacions Anime\n"
   ]
  },
  {
   "cell_type": "markdown",
   "id": "a2df63ab",
   "metadata": {},
   "source": [
    "Important dades "
   ]
  },
  {
   "cell_type": "code",
   "execution_count": null,
   "id": "c76a0e42",
   "metadata": {
    "vscode": {
     "languageId": "python"
    }
   },
   "outputs": [],
   "source": [
    "import pandas as pd\n",
    "\n",
    "ratings = pd.read_csv('/Users/alexmiliandieguez/code/jupyter/data/anime/rating.csv', sep=',', header = 0)\n",
    "\n",
    "m_cols = ['anime_id', 'name']\n",
    "anime = pd.read_csv('/Users/alexmiliandieguez/code/jupyter/data/anime/anime.csv', sep=',', names=m_cols, usecols=range(2), header = 0)\n",
    "\n",
    "print(ratings.head())\n",
    "print(ratings.describe())"
   ]
  },
  {
   "cell_type": "markdown",
   "id": "e0d10250",
   "metadata": {},
   "source": [
    "Neteja de ratings negatius o sense ratings"
   ]
  },
  {
   "cell_type": "code",
   "execution_count": 3,
   "id": "68741ea7",
   "metadata": {
    "vscode": {
     "languageId": "python"
    }
   },
   "outputs": [],
   "source": [
    "ratings['rating'] = pd.to_numeric(ratings['rating'], errors='coerce')\n",
    "ratings = ratings.dropna(subset=['rating'])\n",
    "ratings = ratings[ratings['rating'] >= 0]\n",
    "print(ratings.head())\n",
    "print(ratings.describe())\n"
   ]
  },
  {
   "cell_type": "markdown",
   "id": "8d4c2bf2",
   "metadata": {},
   "source": [
    "Contador de quantes vegades s'han valorat els anime"
   ]
  },
  {
   "cell_type": "code",
   "execution_count": null,
   "id": "d5148258",
   "metadata": {
    "vscode": {
     "languageId": "python"
    }
   },
   "outputs": [],
   "source": [
    "counts = ratings['anime_id'].value_counts()\n",
    "users = ratings['user_id'].value_counts()\n",
    "\n",
    "print(\"Ratings per anime\")\n",
    "print(counts.describe())\n",
    "print(\"\\n\")\n",
    "print(f\"Ratings per user\")\n",
    "print(users.describe())"
   ]
  },
  {
   "cell_type": "markdown",
   "id": "55d629a7",
   "metadata": {},
   "source": [
    "Gràfics"
   ]
  },
  {
   "cell_type": "code",
   "execution_count": null,
   "id": "02f505cf",
   "metadata": {
    "vscode": {
     "languageId": "python"
    }
   },
   "outputs": [],
   "source": [
    "import matplotlib.pyplot as plt\n",
    "\n",
    "plt.hist(users, bins=50)\n",
    "plt.title('Distribució de nombre de valoracions per usuari')\n",
    "plt.xlabel('Nombre de valoracions per usuari')\n",
    "plt.ylabel('Nombre d\\'usuaris')\n",
    "plt.show()\n",
    "\n",
    "plt.hist(counts, bins=50)\n",
    "plt.title('Distribució de nombre de valoracions per anime')\n",
    "plt.xlabel('Nombre de valoracions per anime')\n",
    "plt.ylabel('Nombre d\\'animes')\n",
    "plt.show()\n",
    "\n",
    "print(f\"Usuaris percentil 99% : {users.quantile(0.99)}\")\n"
   ]
  },
  {
   "cell_type": "markdown",
   "id": "792d8c20",
   "metadata": {},
   "source": [
    "Neteja de dades"
   ]
  },
  {
   "cell_type": "code",
   "execution_count": null,
   "id": "af59d369",
   "metadata": {
    "vscode": {
     "languageId": "python"
    }
   },
   "outputs": [],
   "source": [
    "N_min = 100\n",
    "counts = ratings['anime_id'].value_counts()\n",
    "anime_significatius = counts[counts >= N_min].index\n",
    "ratings_filtrat = ratings[ratings['anime_id'].isin(anime_significatius)]\n",
    "\n",
    "U_min = 10\n",
    "U_max = 517\n",
    "users = ratings_filtrat['user_id'].value_counts()\n",
    "usuaris_actius = users[users >= U_min].index\n",
    "usuaris_actius = usuaris_actius[users[usuaris_actius] <= U_max]\n",
    "ratings_filtrat = ratings_filtrat[ratings_filtrat['user_id'].isin(usuaris_actius)]\n",
    "\n",
    "counts = ratings_filtrat['anime_id'].value_counts()\n",
    "users = ratings_filtrat['user_id'].value_counts()\n",
    "\n",
    "print(\"Ratings per anime\")\n",
    "print(counts.describe())\n",
    "print(\"\\n\")\n",
    "print(f\"Ratings per user\")\n",
    "print(users.describe())\n",
    "\n",
    "\n",
    "print(f\"\\nAnimes unitat: {ratings_filtrat['anime_id'].nunique()}\")\n",
    "print(f\"Usuaris unitat: {ratings_filtrat['user_id'].nunique()}\")\n",
    "print(f\"Total de files: {len(ratings_filtrat)}\")"
   ]
  },
  {
   "cell_type": "markdown",
   "id": "5429dccb",
   "metadata": {},
   "source": [
    "Gràfcis"
   ]
  },
  {
   "cell_type": "code",
   "execution_count": null,
   "id": "3889c849",
   "metadata": {
    "vscode": {
     "languageId": "python"
    }
   },
   "outputs": [],
   "source": [
    "plt.hist(users, bins=50)\n",
    "plt.title('Distribució de nombre de valoracions per usuari')\n",
    "plt.xlabel('Nombre de valoracions per usuari')\n",
    "plt.ylabel('Nombre d\\'usuaris')\n",
    "plt.show()\n",
    "\n",
    "plt.hist(counts, bins=50)\n",
    "plt.title('Distribució de nombre de valoracions per anime')\n",
    "plt.xlabel('Nombre de valoracions per anime')\n",
    "plt.ylabel('Nombre d\\'animes')\n",
    "plt.show()\n"
   ]
  },
  {
   "cell_type": "markdown",
   "id": "664c0440",
   "metadata": {},
   "source": [
    "Pivotar taula"
   ]
  },
  {
   "cell_type": "code",
   "execution_count": null,
   "id": "38e4f4a5",
   "metadata": {
    "vscode": {
     "languageId": "python"
    }
   },
   "outputs": [],
   "source": [
    "userRatings = ratings_filtrat.pivot_table(index=['user_id'],columns=['anime_id'],values='rating')\n",
    "userRatings.head()"
   ]
  },
  {
   "cell_type": "markdown",
   "id": "46e205ec",
   "metadata": {},
   "source": [
    "Matriu de correlació"
   ]
  },
  {
   "cell_type": "code",
   "execution_count": null,
   "id": "b2ef5006",
   "metadata": {
    "vscode": {
     "languageId": "python"
    }
   },
   "outputs": [],
   "source": [
    "corrMatrix = userRatings.corr(method='pearson', min_periods=500)"
   ]
  },
  {
   "cell_type": "code",
   "execution_count": null,
   "id": "336f3d43",
   "metadata": {
    "vscode": {
     "languageId": "python"
    }
   },
   "outputs": [],
   "source": [
    "print(corrMatrix.describe())"
   ]
  },
  {
   "cell_type": "markdown",
   "id": "d58868e5",
   "metadata": {},
   "source": [
    "Afegim usuari"
   ]
  },
  {
   "cell_type": "code",
   "execution_count": null,
   "id": "cfb943b0",
   "metadata": {
    "vscode": {
     "languageId": "python"
    }
   },
   "outputs": [],
   "source": [
    "myRatings = pd.Series({11061: 10, 2476: 1}, name=0)\n",
    "userRatings = pd.concat([userRatings, myRatings.to_frame().T])\n",
    "print(myRatings)"
   ]
  },
  {
   "cell_type": "markdown",
   "id": "31a30c39",
   "metadata": {},
   "source": [
    "Canviem id_anime a name"
   ]
  },
  {
   "cell_type": "code",
   "execution_count": null,
   "id": "ab770a41",
   "metadata": {
    "vscode": {
     "languageId": "python"
    }
   },
   "outputs": [],
   "source": [
    "name_map = anime.set_index('anime_id')['name'].to_dict()\n",
    "userRatings = userRatings.rename(columns=name_map)\n",
    "corrMatrix_names = corrMatrix.rename(index=name_map, columns=name_map)\n",
    "myRatings = userRatings.loc[0].dropna()\n",
    "print(myRatings)"
   ]
  },
  {
   "cell_type": "code",
   "execution_count": null,
   "id": "bddff765",
   "metadata": {
    "vscode": {
     "languageId": "python"
    }
   },
   "outputs": [],
   "source": [
    "simCandidates = pd.Series(dtype='float64')\n",
    "\n",
    "for anime, rating in myRatings.items():\n",
    "    sims = corrMatrix_names[anime].dropna()\n",
    "    sims = sims * rating\n",
    "    simCandidates = pd.concat([simCandidates, sims])\n",
    "\n",
    "simCandidates = simCandidates.groupby(simCandidates.index).sum()\n",
    "\n",
    "filteredSims = simCandidates.drop(myRatings.index)\n",
    "\n",
    "filteredSims = filteredSims.sort_values(ascending=False)\n",
    "\n",
    "print(filteredSims.head(10))\n"
   ]
  },
  {
   "cell_type": "code",
   "execution_count": null,
   "id": "7ddfc1de",
   "metadata": {
    "vscode": {
     "languageId": "python"
    }
   },
   "outputs": [],
   "source": []
  }
 ],
 "metadata": {
  "kernelspec": {
   "display_name": "Python 3 (ipykernel)",
   "language": "python",
   "name": "python3"
  },
  "language_info": {
   "name": "",
   "version": ""
  }
 },
 "nbformat": 4,
 "nbformat_minor": 5
}
